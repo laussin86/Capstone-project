{
  "nbformat": 4,
  "nbformat_minor": 0,
  "metadata": {
    "colab": {
      "name": "Loan Default  Project.ipynb",
      "provenance": [],
      "authorship_tag": "ABX9TyOFmpuly9sxuOMePQOojUp9",
      "include_colab_link": true
    },
    "kernelspec": {
      "name": "python3",
      "display_name": "Python 3"
    },
    "language_info": {
      "name": "python"
    }
  },
  "cells": [
    {
      "cell_type": "markdown",
      "metadata": {
        "id": "view-in-github",
        "colab_type": "text"
      },
      "source": [
        "<a href=\"https://colab.research.google.com/github/laussin86/laussin86/blob/main/Loan_Default_Project.ipynb\" target=\"_parent\"><img src=\"https://colab.research.google.com/assets/colab-badge.svg\" alt=\"Open In Colab\"/></a>"
      ]
    },
    {
      "cell_type": "code",
      "source": [
        "import numpy as np\n",
        "import pandas as pd\n",
        "import seaborn as sns\n",
        "from sklearn import metrics\n",
        "from sklearn import preprocessing\n",
        "from sklearn.metrics import accuracy_score,confusion_matrix\n",
        "from sklearn.model_selection import train_test_split\n",
        "import matplotlib.pyplot as plt"
      ],
      "metadata": {
        "id": "X10Lw6pjw4HO"
      },
      "execution_count": 2,
      "outputs": []
    },
    {
      "cell_type": "code",
      "source": [
        "#1. Check the datatypes of the attributes.\n",
        "df = pd.read_csv('accepted_2007_to_2018Q4.csv',\n",
        "                 usecols=['loan_amnt', 'term', 'int_rate', 'installment', 'grade', 'sub_grade',\n",
        "                          'emp_title', 'emp_length', 'home_ownership', 'annual_inc',\n",
        "                          'verification_status', 'issue_d', 'loan_status', 'purpose', 'title',\"addr_state\",\n",
        "                          'dti', 'earliest_cr_line', 'open_acc', 'pub_rec', 'revol_bal',\n",
        "                          'revol_util', 'total_acc', 'initial_list_status', 'application_type',\n",
        "                          'mort_acc', 'pub_rec_bankruptcies'])\n",
        "print(df.dtypes)"
      ],
      "metadata": {
        "colab": {
          "base_uri": "https://localhost:8080/"
        },
        "id": "W6CoKejYxcyR",
        "outputId": "e86841f8-215d-4410-895c-ec6af91d056c"
      },
      "execution_count": 4,
      "outputs": [
        {
          "output_type": "stream",
          "name": "stdout",
          "text": [
            "loan_amnt               float64\n",
            "term                     object\n",
            "int_rate                float64\n",
            "installment             float64\n",
            "grade                    object\n",
            "sub_grade                object\n",
            "emp_title                object\n",
            "emp_length               object\n",
            "home_ownership           object\n",
            "annual_inc              float64\n",
            "verification_status      object\n",
            "issue_d                  object\n",
            "loan_status              object\n",
            "purpose                  object\n",
            "title                    object\n",
            "addr_state               object\n",
            "dti                     float64\n",
            "earliest_cr_line         object\n",
            "open_acc                float64\n",
            "pub_rec                 float64\n",
            "revol_bal               float64\n",
            "revol_util              float64\n",
            "total_acc               float64\n",
            "initial_list_status      object\n",
            "application_type         object\n",
            "mort_acc                float64\n",
            "pub_rec_bankruptcies    float64\n",
            "dtype: object\n"
          ]
        }
      ]
    },
    {
      "cell_type": "code",
      "source": [
        "#2. Are there any missing values in the dataset?\n",
        "df.isnull().sum()"
      ],
      "metadata": {
        "colab": {
          "base_uri": "https://localhost:8080/"
        },
        "id": "0JCZyxGoz3Gp",
        "outputId": "857db9f0-e915-41de-a850-c6ccdf5c371a"
      },
      "execution_count": 84,
      "outputs": [
        {
          "output_type": "execute_result",
          "data": {
            "text/plain": [
              "loan_amnt                   23\n",
              "term                        23\n",
              "int_rate                    23\n",
              "installment                 23\n",
              "grade                       23\n",
              "sub_grade                   23\n",
              "emp_title               126762\n",
              "emp_length              111022\n",
              "home_ownership              23\n",
              "annual_inc                  27\n",
              "verification_status         23\n",
              "issue_d                     23\n",
              "loan_status                 23\n",
              "purpose                     23\n",
              "title                    17910\n",
              "addr_state                  23\n",
              "dti                       1462\n",
              "earliest_cr_line            52\n",
              "open_acc                    52\n",
              "pub_rec                     52\n",
              "revol_bal                   23\n",
              "revol_util                1327\n",
              "total_acc                   52\n",
              "initial_list_status         24\n",
              "application_type            24\n",
              "mort_acc                 42559\n",
              "pub_rec_bankruptcies      1389\n",
              "dtype: int64"
            ]
          },
          "metadata": {},
          "execution_count": 84
        }
      ]
    },
    {
      "cell_type": "code",
      "source": [
        "df.describe().transpose()"
      ],
      "metadata": {
        "colab": {
          "base_uri": "https://localhost:8080/",
          "height": 469
        },
        "id": "jy4eoHnw_pfb",
        "outputId": "a3c0ade2-925f-4680-e2d7-67f16bf16828"
      },
      "execution_count": 85,
      "outputs": [
        {
          "output_type": "execute_result",
          "data": {
            "text/html": [
              "\n",
              "  <div id=\"df-9f535633-251f-4645-952d-b546f5b72754\">\n",
              "    <div class=\"colab-df-container\">\n",
              "      <div>\n",
              "<style scoped>\n",
              "    .dataframe tbody tr th:only-of-type {\n",
              "        vertical-align: middle;\n",
              "    }\n",
              "\n",
              "    .dataframe tbody tr th {\n",
              "        vertical-align: top;\n",
              "    }\n",
              "\n",
              "    .dataframe thead th {\n",
              "        text-align: right;\n",
              "    }\n",
              "</style>\n",
              "<table border=\"1\" class=\"dataframe\">\n",
              "  <thead>\n",
              "    <tr style=\"text-align: right;\">\n",
              "      <th></th>\n",
              "      <th>count</th>\n",
              "      <th>mean</th>\n",
              "      <th>std</th>\n",
              "      <th>min</th>\n",
              "      <th>25%</th>\n",
              "      <th>50%</th>\n",
              "      <th>75%</th>\n",
              "      <th>max</th>\n",
              "    </tr>\n",
              "  </thead>\n",
              "  <tbody>\n",
              "    <tr>\n",
              "      <th>loan_amnt</th>\n",
              "      <td>1672884.0</td>\n",
              "      <td>15219.488829</td>\n",
              "      <td>9244.219390</td>\n",
              "      <td>500.00</td>\n",
              "      <td>8000.00</td>\n",
              "      <td>13000.00</td>\n",
              "      <td>20000.00</td>\n",
              "      <td>4.000000e+04</td>\n",
              "    </tr>\n",
              "    <tr>\n",
              "      <th>int_rate</th>\n",
              "      <td>1672884.0</td>\n",
              "      <td>12.886498</td>\n",
              "      <td>4.805140</td>\n",
              "      <td>5.31</td>\n",
              "      <td>9.17</td>\n",
              "      <td>12.49</td>\n",
              "      <td>15.61</td>\n",
              "      <td>3.099000e+01</td>\n",
              "    </tr>\n",
              "    <tr>\n",
              "      <th>installment</th>\n",
              "      <td>1672884.0</td>\n",
              "      <td>447.070904</td>\n",
              "      <td>266.483890</td>\n",
              "      <td>14.01</td>\n",
              "      <td>253.28</td>\n",
              "      <td>378.59</td>\n",
              "      <td>595.31</td>\n",
              "      <td>1.719830e+03</td>\n",
              "    </tr>\n",
              "    <tr>\n",
              "      <th>annual_inc</th>\n",
              "      <td>1672880.0</td>\n",
              "      <td>78156.706065</td>\n",
              "      <td>114748.617574</td>\n",
              "      <td>0.00</td>\n",
              "      <td>46000.00</td>\n",
              "      <td>65000.00</td>\n",
              "      <td>93632.50</td>\n",
              "      <td>1.100000e+08</td>\n",
              "    </tr>\n",
              "    <tr>\n",
              "      <th>dti</th>\n",
              "      <td>1671445.0</td>\n",
              "      <td>19.042570</td>\n",
              "      <td>14.697972</td>\n",
              "      <td>-1.00</td>\n",
              "      <td>11.95</td>\n",
              "      <td>17.96</td>\n",
              "      <td>24.74</td>\n",
              "      <td>9.990000e+02</td>\n",
              "    </tr>\n",
              "    <tr>\n",
              "      <th>open_acc</th>\n",
              "      <td>1672855.0</td>\n",
              "      <td>11.684076</td>\n",
              "      <td>5.711543</td>\n",
              "      <td>0.00</td>\n",
              "      <td>8.00</td>\n",
              "      <td>11.00</td>\n",
              "      <td>15.00</td>\n",
              "      <td>1.010000e+02</td>\n",
              "    </tr>\n",
              "    <tr>\n",
              "      <th>pub_rec</th>\n",
              "      <td>1672855.0</td>\n",
              "      <td>0.197657</td>\n",
              "      <td>0.566616</td>\n",
              "      <td>0.00</td>\n",
              "      <td>0.00</td>\n",
              "      <td>0.00</td>\n",
              "      <td>0.00</td>\n",
              "      <td>8.600000e+01</td>\n",
              "    </tr>\n",
              "    <tr>\n",
              "      <th>revol_bal</th>\n",
              "      <td>1672884.0</td>\n",
              "      <td>16816.087074</td>\n",
              "      <td>23294.003743</td>\n",
              "      <td>0.00</td>\n",
              "      <td>5885.00</td>\n",
              "      <td>11330.00</td>\n",
              "      <td>20426.00</td>\n",
              "      <td>2.904836e+06</td>\n",
              "    </tr>\n",
              "    <tr>\n",
              "      <th>revol_util</th>\n",
              "      <td>1671580.0</td>\n",
              "      <td>49.869809</td>\n",
              "      <td>24.758225</td>\n",
              "      <td>0.00</td>\n",
              "      <td>31.00</td>\n",
              "      <td>49.60</td>\n",
              "      <td>68.90</td>\n",
              "      <td>8.923000e+02</td>\n",
              "    </tr>\n",
              "    <tr>\n",
              "      <th>total_acc</th>\n",
              "      <td>1672855.0</td>\n",
              "      <td>24.264887</td>\n",
              "      <td>12.096815</td>\n",
              "      <td>1.00</td>\n",
              "      <td>15.00</td>\n",
              "      <td>22.00</td>\n",
              "      <td>31.00</td>\n",
              "      <td>1.760000e+02</td>\n",
              "    </tr>\n",
              "    <tr>\n",
              "      <th>mort_acc</th>\n",
              "      <td>1630348.0</td>\n",
              "      <td>1.550571</td>\n",
              "      <td>1.895755</td>\n",
              "      <td>0.00</td>\n",
              "      <td>0.00</td>\n",
              "      <td>1.00</td>\n",
              "      <td>3.00</td>\n",
              "      <td>9.400000e+01</td>\n",
              "    </tr>\n",
              "    <tr>\n",
              "      <th>pub_rec_bankruptcies</th>\n",
              "      <td>1671518.0</td>\n",
              "      <td>0.129206</td>\n",
              "      <td>0.366063</td>\n",
              "      <td>0.00</td>\n",
              "      <td>0.00</td>\n",
              "      <td>0.00</td>\n",
              "      <td>0.00</td>\n",
              "      <td>1.200000e+01</td>\n",
              "    </tr>\n",
              "  </tbody>\n",
              "</table>\n",
              "</div>\n",
              "      <button class=\"colab-df-convert\" onclick=\"convertToInteractive('df-9f535633-251f-4645-952d-b546f5b72754')\"\n",
              "              title=\"Convert this dataframe to an interactive table.\"\n",
              "              style=\"display:none;\">\n",
              "        \n",
              "  <svg xmlns=\"http://www.w3.org/2000/svg\" height=\"24px\"viewBox=\"0 0 24 24\"\n",
              "       width=\"24px\">\n",
              "    <path d=\"M0 0h24v24H0V0z\" fill=\"none\"/>\n",
              "    <path d=\"M18.56 5.44l.94 2.06.94-2.06 2.06-.94-2.06-.94-.94-2.06-.94 2.06-2.06.94zm-11 1L8.5 8.5l.94-2.06 2.06-.94-2.06-.94L8.5 2.5l-.94 2.06-2.06.94zm10 10l.94 2.06.94-2.06 2.06-.94-2.06-.94-.94-2.06-.94 2.06-2.06.94z\"/><path d=\"M17.41 7.96l-1.37-1.37c-.4-.4-.92-.59-1.43-.59-.52 0-1.04.2-1.43.59L10.3 9.45l-7.72 7.72c-.78.78-.78 2.05 0 2.83L4 21.41c.39.39.9.59 1.41.59.51 0 1.02-.2 1.41-.59l7.78-7.78 2.81-2.81c.8-.78.8-2.07 0-2.86zM5.41 20L4 18.59l7.72-7.72 1.47 1.35L5.41 20z\"/>\n",
              "  </svg>\n",
              "      </button>\n",
              "      \n",
              "  <style>\n",
              "    .colab-df-container {\n",
              "      display:flex;\n",
              "      flex-wrap:wrap;\n",
              "      gap: 12px;\n",
              "    }\n",
              "\n",
              "    .colab-df-convert {\n",
              "      background-color: #E8F0FE;\n",
              "      border: none;\n",
              "      border-radius: 50%;\n",
              "      cursor: pointer;\n",
              "      display: none;\n",
              "      fill: #1967D2;\n",
              "      height: 32px;\n",
              "      padding: 0 0 0 0;\n",
              "      width: 32px;\n",
              "    }\n",
              "\n",
              "    .colab-df-convert:hover {\n",
              "      background-color: #E2EBFA;\n",
              "      box-shadow: 0px 1px 2px rgba(60, 64, 67, 0.3), 0px 1px 3px 1px rgba(60, 64, 67, 0.15);\n",
              "      fill: #174EA6;\n",
              "    }\n",
              "\n",
              "    [theme=dark] .colab-df-convert {\n",
              "      background-color: #3B4455;\n",
              "      fill: #D2E3FC;\n",
              "    }\n",
              "\n",
              "    [theme=dark] .colab-df-convert:hover {\n",
              "      background-color: #434B5C;\n",
              "      box-shadow: 0px 1px 3px 1px rgba(0, 0, 0, 0.15);\n",
              "      filter: drop-shadow(0px 1px 2px rgba(0, 0, 0, 0.3));\n",
              "      fill: #FFFFFF;\n",
              "    }\n",
              "  </style>\n",
              "\n",
              "      <script>\n",
              "        const buttonEl =\n",
              "          document.querySelector('#df-9f535633-251f-4645-952d-b546f5b72754 button.colab-df-convert');\n",
              "        buttonEl.style.display =\n",
              "          google.colab.kernel.accessAllowed ? 'block' : 'none';\n",
              "\n",
              "        async function convertToInteractive(key) {\n",
              "          const element = document.querySelector('#df-9f535633-251f-4645-952d-b546f5b72754');\n",
              "          const dataTable =\n",
              "            await google.colab.kernel.invokeFunction('convertToInteractive',\n",
              "                                                     [key], {});\n",
              "          if (!dataTable) return;\n",
              "\n",
              "          const docLinkHtml = 'Like what you see? Visit the ' +\n",
              "            '<a target=\"_blank\" href=https://colab.research.google.com/notebooks/data_table.ipynb>data table notebook</a>'\n",
              "            + ' to learn more about interactive tables.';\n",
              "          element.innerHTML = '';\n",
              "          dataTable['output_type'] = 'display_data';\n",
              "          await google.colab.output.renderOutput(dataTable, element);\n",
              "          const docLink = document.createElement('div');\n",
              "          docLink.innerHTML = docLinkHtml;\n",
              "          element.appendChild(docLink);\n",
              "        }\n",
              "      </script>\n",
              "    </div>\n",
              "  </div>\n",
              "  "
            ],
            "text/plain": [
              "                          count          mean  ...       75%           max\n",
              "loan_amnt             1672884.0  15219.488829  ...  20000.00  4.000000e+04\n",
              "int_rate              1672884.0     12.886498  ...     15.61  3.099000e+01\n",
              "installment           1672884.0    447.070904  ...    595.31  1.719830e+03\n",
              "annual_inc            1672880.0  78156.706065  ...  93632.50  1.100000e+08\n",
              "dti                   1671445.0     19.042570  ...     24.74  9.990000e+02\n",
              "open_acc              1672855.0     11.684076  ...     15.00  1.010000e+02\n",
              "pub_rec               1672855.0      0.197657  ...      0.00  8.600000e+01\n",
              "revol_bal             1672884.0  16816.087074  ...  20426.00  2.904836e+06\n",
              "revol_util            1671580.0     49.869809  ...     68.90  8.923000e+02\n",
              "total_acc             1672855.0     24.264887  ...     31.00  1.760000e+02\n",
              "mort_acc              1630348.0      1.550571  ...      3.00  9.400000e+01\n",
              "pub_rec_bankruptcies  1671518.0      0.129206  ...      0.00  1.200000e+01\n",
              "\n",
              "[12 rows x 8 columns]"
            ]
          },
          "metadata": {},
          "execution_count": 85
        }
      ]
    },
    {
      "cell_type": "code",
      "source": [
        "#3. What is the correlation between the attributes other than loan_status?\n",
        "dfq = df.loc[:, df.columns !='loan_status']\n",
        "dfq.corr()"
      ],
      "metadata": {
        "colab": {
          "base_uri": "https://localhost:8080/",
          "height": 489
        },
        "id": "GK6YITUQ1MLY",
        "outputId": "eae3a682-a8f2-4b8b-9b04-3edf9da2b733"
      },
      "execution_count": 86,
      "outputs": [
        {
          "output_type": "execute_result",
          "data": {
            "text/html": [
              "\n",
              "  <div id=\"df-ad4554d4-5d5b-42a1-a5dc-7058e6561a3b\">\n",
              "    <div class=\"colab-df-container\">\n",
              "      <div>\n",
              "<style scoped>\n",
              "    .dataframe tbody tr th:only-of-type {\n",
              "        vertical-align: middle;\n",
              "    }\n",
              "\n",
              "    .dataframe tbody tr th {\n",
              "        vertical-align: top;\n",
              "    }\n",
              "\n",
              "    .dataframe thead th {\n",
              "        text-align: right;\n",
              "    }\n",
              "</style>\n",
              "<table border=\"1\" class=\"dataframe\">\n",
              "  <thead>\n",
              "    <tr style=\"text-align: right;\">\n",
              "      <th></th>\n",
              "      <th>loan_amnt</th>\n",
              "      <th>int_rate</th>\n",
              "      <th>installment</th>\n",
              "      <th>annual_inc</th>\n",
              "      <th>dti</th>\n",
              "      <th>open_acc</th>\n",
              "      <th>pub_rec</th>\n",
              "      <th>revol_bal</th>\n",
              "      <th>revol_util</th>\n",
              "      <th>total_acc</th>\n",
              "      <th>mort_acc</th>\n",
              "      <th>pub_rec_bankruptcies</th>\n",
              "    </tr>\n",
              "  </thead>\n",
              "  <tbody>\n",
              "    <tr>\n",
              "      <th>loan_amnt</th>\n",
              "      <td>1.000000</td>\n",
              "      <td>0.085304</td>\n",
              "      <td>0.944114</td>\n",
              "      <td>0.193773</td>\n",
              "      <td>0.043971</td>\n",
              "      <td>0.182345</td>\n",
              "      <td>-0.065486</td>\n",
              "      <td>0.319594</td>\n",
              "      <td>0.102833</td>\n",
              "      <td>0.197067</td>\n",
              "      <td>0.218719</td>\n",
              "      <td>-0.088939</td>\n",
              "    </tr>\n",
              "    <tr>\n",
              "      <th>int_rate</th>\n",
              "      <td>0.085304</td>\n",
              "      <td>1.000000</td>\n",
              "      <td>0.108077</td>\n",
              "      <td>-0.051181</td>\n",
              "      <td>0.129960</td>\n",
              "      <td>-0.009563</td>\n",
              "      <td>0.057663</td>\n",
              "      <td>-0.032047</td>\n",
              "      <td>0.252449</td>\n",
              "      <td>-0.041172</td>\n",
              "      <td>-0.088633</td>\n",
              "      <td>0.060953</td>\n",
              "    </tr>\n",
              "    <tr>\n",
              "      <th>installment</th>\n",
              "      <td>0.944114</td>\n",
              "      <td>0.108077</td>\n",
              "      <td>1.000000</td>\n",
              "      <td>0.187567</td>\n",
              "      <td>0.045526</td>\n",
              "      <td>0.171568</td>\n",
              "      <td>-0.052475</td>\n",
              "      <td>0.305571</td>\n",
              "      <td>0.121241</td>\n",
              "      <td>0.175497</td>\n",
              "      <td>0.184288</td>\n",
              "      <td>-0.079313</td>\n",
              "    </tr>\n",
              "    <tr>\n",
              "      <th>annual_inc</th>\n",
              "      <td>0.193773</td>\n",
              "      <td>-0.051181</td>\n",
              "      <td>0.187567</td>\n",
              "      <td>1.000000</td>\n",
              "      <td>-0.082453</td>\n",
              "      <td>0.092582</td>\n",
              "      <td>-0.004785</td>\n",
              "      <td>0.186937</td>\n",
              "      <td>0.029496</td>\n",
              "      <td>0.112545</td>\n",
              "      <td>0.132687</td>\n",
              "      <td>-0.027357</td>\n",
              "    </tr>\n",
              "    <tr>\n",
              "      <th>dti</th>\n",
              "      <td>0.043971</td>\n",
              "      <td>0.129960</td>\n",
              "      <td>0.045526</td>\n",
              "      <td>-0.082453</td>\n",
              "      <td>1.000000</td>\n",
              "      <td>0.183059</td>\n",
              "      <td>-0.026429</td>\n",
              "      <td>0.101011</td>\n",
              "      <td>0.116100</td>\n",
              "      <td>0.144657</td>\n",
              "      <td>-0.008836</td>\n",
              "      <td>-0.012735</td>\n",
              "    </tr>\n",
              "    <tr>\n",
              "      <th>open_acc</th>\n",
              "      <td>0.182345</td>\n",
              "      <td>-0.009563</td>\n",
              "      <td>0.171568</td>\n",
              "      <td>0.092582</td>\n",
              "      <td>0.183059</td>\n",
              "      <td>1.000000</td>\n",
              "      <td>-0.015300</td>\n",
              "      <td>0.238335</td>\n",
              "      <td>-0.129500</td>\n",
              "      <td>0.720258</td>\n",
              "      <td>0.134421</td>\n",
              "      <td>-0.015797</td>\n",
              "    </tr>\n",
              "    <tr>\n",
              "      <th>pub_rec</th>\n",
              "      <td>-0.065486</td>\n",
              "      <td>0.057663</td>\n",
              "      <td>-0.052475</td>\n",
              "      <td>-0.004785</td>\n",
              "      <td>-0.026429</td>\n",
              "      <td>-0.015300</td>\n",
              "      <td>1.000000</td>\n",
              "      <td>-0.089039</td>\n",
              "      <td>-0.049823</td>\n",
              "      <td>0.010367</td>\n",
              "      <td>-0.005731</td>\n",
              "      <td>0.663517</td>\n",
              "    </tr>\n",
              "    <tr>\n",
              "      <th>revol_bal</th>\n",
              "      <td>0.319594</td>\n",
              "      <td>-0.032047</td>\n",
              "      <td>0.305571</td>\n",
              "      <td>0.186937</td>\n",
              "      <td>0.101011</td>\n",
              "      <td>0.238335</td>\n",
              "      <td>-0.089039</td>\n",
              "      <td>1.000000</td>\n",
              "      <td>0.250617</td>\n",
              "      <td>0.203854</td>\n",
              "      <td>0.214212</td>\n",
              "      <td>-0.111311</td>\n",
              "    </tr>\n",
              "    <tr>\n",
              "      <th>revol_util</th>\n",
              "      <td>0.102833</td>\n",
              "      <td>0.252449</td>\n",
              "      <td>0.121241</td>\n",
              "      <td>0.029496</td>\n",
              "      <td>0.116100</td>\n",
              "      <td>-0.129500</td>\n",
              "      <td>-0.049823</td>\n",
              "      <td>0.250617</td>\n",
              "      <td>1.000000</td>\n",
              "      <td>-0.091271</td>\n",
              "      <td>0.039306</td>\n",
              "      <td>-0.075772</td>\n",
              "    </tr>\n",
              "    <tr>\n",
              "      <th>total_acc</th>\n",
              "      <td>0.197067</td>\n",
              "      <td>-0.041172</td>\n",
              "      <td>0.175497</td>\n",
              "      <td>0.112545</td>\n",
              "      <td>0.144657</td>\n",
              "      <td>0.720258</td>\n",
              "      <td>0.010367</td>\n",
              "      <td>0.203854</td>\n",
              "      <td>-0.091271</td>\n",
              "      <td>1.000000</td>\n",
              "      <td>0.365215</td>\n",
              "      <td>0.030844</td>\n",
              "    </tr>\n",
              "    <tr>\n",
              "      <th>mort_acc</th>\n",
              "      <td>0.218719</td>\n",
              "      <td>-0.088633</td>\n",
              "      <td>0.184288</td>\n",
              "      <td>0.132687</td>\n",
              "      <td>-0.008836</td>\n",
              "      <td>0.134421</td>\n",
              "      <td>-0.005731</td>\n",
              "      <td>0.214212</td>\n",
              "      <td>0.039306</td>\n",
              "      <td>0.365215</td>\n",
              "      <td>1.000000</td>\n",
              "      <td>-0.003326</td>\n",
              "    </tr>\n",
              "    <tr>\n",
              "      <th>pub_rec_bankruptcies</th>\n",
              "      <td>-0.088939</td>\n",
              "      <td>0.060953</td>\n",
              "      <td>-0.079313</td>\n",
              "      <td>-0.027357</td>\n",
              "      <td>-0.012735</td>\n",
              "      <td>-0.015797</td>\n",
              "      <td>0.663517</td>\n",
              "      <td>-0.111311</td>\n",
              "      <td>-0.075772</td>\n",
              "      <td>0.030844</td>\n",
              "      <td>-0.003326</td>\n",
              "      <td>1.000000</td>\n",
              "    </tr>\n",
              "  </tbody>\n",
              "</table>\n",
              "</div>\n",
              "      <button class=\"colab-df-convert\" onclick=\"convertToInteractive('df-ad4554d4-5d5b-42a1-a5dc-7058e6561a3b')\"\n",
              "              title=\"Convert this dataframe to an interactive table.\"\n",
              "              style=\"display:none;\">\n",
              "        \n",
              "  <svg xmlns=\"http://www.w3.org/2000/svg\" height=\"24px\"viewBox=\"0 0 24 24\"\n",
              "       width=\"24px\">\n",
              "    <path d=\"M0 0h24v24H0V0z\" fill=\"none\"/>\n",
              "    <path d=\"M18.56 5.44l.94 2.06.94-2.06 2.06-.94-2.06-.94-.94-2.06-.94 2.06-2.06.94zm-11 1L8.5 8.5l.94-2.06 2.06-.94-2.06-.94L8.5 2.5l-.94 2.06-2.06.94zm10 10l.94 2.06.94-2.06 2.06-.94-2.06-.94-.94-2.06-.94 2.06-2.06.94z\"/><path d=\"M17.41 7.96l-1.37-1.37c-.4-.4-.92-.59-1.43-.59-.52 0-1.04.2-1.43.59L10.3 9.45l-7.72 7.72c-.78.78-.78 2.05 0 2.83L4 21.41c.39.39.9.59 1.41.59.51 0 1.02-.2 1.41-.59l7.78-7.78 2.81-2.81c.8-.78.8-2.07 0-2.86zM5.41 20L4 18.59l7.72-7.72 1.47 1.35L5.41 20z\"/>\n",
              "  </svg>\n",
              "      </button>\n",
              "      \n",
              "  <style>\n",
              "    .colab-df-container {\n",
              "      display:flex;\n",
              "      flex-wrap:wrap;\n",
              "      gap: 12px;\n",
              "    }\n",
              "\n",
              "    .colab-df-convert {\n",
              "      background-color: #E8F0FE;\n",
              "      border: none;\n",
              "      border-radius: 50%;\n",
              "      cursor: pointer;\n",
              "      display: none;\n",
              "      fill: #1967D2;\n",
              "      height: 32px;\n",
              "      padding: 0 0 0 0;\n",
              "      width: 32px;\n",
              "    }\n",
              "\n",
              "    .colab-df-convert:hover {\n",
              "      background-color: #E2EBFA;\n",
              "      box-shadow: 0px 1px 2px rgba(60, 64, 67, 0.3), 0px 1px 3px 1px rgba(60, 64, 67, 0.15);\n",
              "      fill: #174EA6;\n",
              "    }\n",
              "\n",
              "    [theme=dark] .colab-df-convert {\n",
              "      background-color: #3B4455;\n",
              "      fill: #D2E3FC;\n",
              "    }\n",
              "\n",
              "    [theme=dark] .colab-df-convert:hover {\n",
              "      background-color: #434B5C;\n",
              "      box-shadow: 0px 1px 3px 1px rgba(0, 0, 0, 0.15);\n",
              "      filter: drop-shadow(0px 1px 2px rgba(0, 0, 0, 0.3));\n",
              "      fill: #FFFFFF;\n",
              "    }\n",
              "  </style>\n",
              "\n",
              "      <script>\n",
              "        const buttonEl =\n",
              "          document.querySelector('#df-ad4554d4-5d5b-42a1-a5dc-7058e6561a3b button.colab-df-convert');\n",
              "        buttonEl.style.display =\n",
              "          google.colab.kernel.accessAllowed ? 'block' : 'none';\n",
              "\n",
              "        async function convertToInteractive(key) {\n",
              "          const element = document.querySelector('#df-ad4554d4-5d5b-42a1-a5dc-7058e6561a3b');\n",
              "          const dataTable =\n",
              "            await google.colab.kernel.invokeFunction('convertToInteractive',\n",
              "                                                     [key], {});\n",
              "          if (!dataTable) return;\n",
              "\n",
              "          const docLinkHtml = 'Like what you see? Visit the ' +\n",
              "            '<a target=\"_blank\" href=https://colab.research.google.com/notebooks/data_table.ipynb>data table notebook</a>'\n",
              "            + ' to learn more about interactive tables.';\n",
              "          element.innerHTML = '';\n",
              "          dataTable['output_type'] = 'display_data';\n",
              "          await google.colab.output.renderOutput(dataTable, element);\n",
              "          const docLink = document.createElement('div');\n",
              "          docLink.innerHTML = docLinkHtml;\n",
              "          element.appendChild(docLink);\n",
              "        }\n",
              "      </script>\n",
              "    </div>\n",
              "  </div>\n",
              "  "
            ],
            "text/plain": [
              "                      loan_amnt  int_rate  ...  mort_acc  pub_rec_bankruptcies\n",
              "loan_amnt              1.000000  0.085304  ...  0.218719             -0.088939\n",
              "int_rate               0.085304  1.000000  ... -0.088633              0.060953\n",
              "installment            0.944114  0.108077  ...  0.184288             -0.079313\n",
              "annual_inc             0.193773 -0.051181  ...  0.132687             -0.027357\n",
              "dti                    0.043971  0.129960  ... -0.008836             -0.012735\n",
              "open_acc               0.182345 -0.009563  ...  0.134421             -0.015797\n",
              "pub_rec               -0.065486  0.057663  ... -0.005731              0.663517\n",
              "revol_bal              0.319594 -0.032047  ...  0.214212             -0.111311\n",
              "revol_util             0.102833  0.252449  ...  0.039306             -0.075772\n",
              "total_acc              0.197067 -0.041172  ...  0.365215              0.030844\n",
              "mort_acc               0.218719 -0.088633  ...  1.000000             -0.003326\n",
              "pub_rec_bankruptcies  -0.088939  0.060953  ... -0.003326              1.000000\n",
              "\n",
              "[12 rows x 12 columns]"
            ]
          },
          "metadata": {},
          "execution_count": 86
        }
      ]
    },
    {
      "cell_type": "code",
      "source": [
        "#4. Graph the frequency distribution of all the selected attributes.\n",
        "ax = sns.countplot(x=\"loan_status\",data=df)\n"
      ],
      "metadata": {
        "colab": {
          "base_uri": "https://localhost:8080/",
          "height": 281
        },
        "id": "nKQKpEoi2B0F",
        "outputId": "7647c4f4-b73e-46d3-e7a1-f79738789989"
      },
      "execution_count": 87,
      "outputs": [
        {
          "output_type": "display_data",
          "data": {
            "image/png": "[encoded data removed]",
            "text/plain": [
              "<Figure size 432x288 with 1 Axes>"
            ]
          },
          "metadata": {
            "needs_background": "light"
          }
        }
      ]
    },
    {
      "cell_type": "code",
      "source": [
        "plt.hist(df['loan_amnt'])"
      ],
      "metadata": {
        "colab": {
          "base_uri": "https://localhost:8080/",
          "height": 351
        },
        "id": "in_ZRPEmHDve",
        "outputId": "68e89952-3fb0-495b-de19-b22f8b8424a9"
      },
      "execution_count": 92,
      "outputs": [
        {
          "output_type": "execute_result",
          "data": {
            "text/plain": [
              "(array([250244., 310604., 380595., 297570., 204456., 118058.,  52199.,\n",
              "         34053.,  14313.,  10792.]),\n",
              " array([ 5.31 ,  7.878, 10.446, 13.014, 15.582, 18.15 , 20.718, 23.286,\n",
              "        25.854, 28.422, 30.99 ]),\n",
              " <a list of 10 Patch objects>)"
            ]
          },
          "metadata": {},
          "execution_count": 92
        },
        {
          "output_type": "display_data",
          "data": {
            "image/png": "[encoded data removed]",
            "text/plain": [
              "<Figure size 432x288 with 1 Axes>"
            ]
          },
          "metadata": {
            "needs_background": "light"
          }
        }
      ]
    },
    {
      "cell_type": "code",
      "source": [
        "plt.hist(df['installment'])"
      ],
      "metadata": {
        "colab": {
          "base_uri": "https://localhost:8080/",
          "height": 351
        },
        "id": "hwr1nJrCvEdf",
        "outputId": "8181b8e3-1364-4f69-f41f-eea8fcc7a25c"
      },
      "execution_count": 94,
      "outputs": [
        {
          "output_type": "execute_result",
          "data": {
            "text/plain": [
              "(array([2.32496e+05, 5.33266e+05, 3.83595e+05, 2.43584e+05, 1.39380e+05,\n",
              "        7.21040e+04, 4.51730e+04, 2.19620e+04, 1.25400e+03, 7.00000e+01]),\n",
              " array([  14.01 ,  184.592,  355.174,  525.756,  696.338,  866.92 ,\n",
              "        1037.502, 1208.084, 1378.666, 1549.248, 1719.83 ]),\n",
              " <a list of 10 Patch objects>)"
            ]
          },
          "metadata": {},
          "execution_count": 94
        },
        {
          "output_type": "display_data",
          "data": {
            "image/png": "[encoded data removed]",
            "text/plain": [
              "<Figure size 432x288 with 1 Axes>"
            ]
          },
          "metadata": {
            "needs_background": "light"
          }
        }
      ]
    },
    {
      "cell_type": "code",
      "source": [
        "ax = sns.countplot(x=\"grade\",data=df)"
      ],
      "metadata": {
        "colab": {
          "base_uri": "https://localhost:8080/",
          "height": 283
        },
        "id": "F-El8YYovQlg",
        "outputId": "f19d5f42-4d80-4487-f9d6-4edf84b330a2"
      },
      "execution_count": 95,
      "outputs": [
        {
          "output_type": "display_data",
          "data": {
            "image/png": "[encoded data removed]",
            "text/plain": [
              "<Figure size 432x288 with 1 Axes>"
            ]
          },
          "metadata": {
            "needs_background": "light"
          }
        }
      ]
    },
    {
      "cell_type": "code",
      "source": [
        "ax = sns.countplot(x=\"sub_grade\",data=df)"
      ],
      "metadata": {
        "colab": {
          "base_uri": "https://localhost:8080/",
          "height": 280
        },
        "id": "2UK7m5zYvnnz",
        "outputId": "51e44fbd-8ea1-4891-fd68-ab597f7f1641"
      },
      "execution_count": 96,
      "outputs": [
        {
          "output_type": "display_data",
          "data": {
            "image/png": "[encoded data removed]",
            "text/plain": [
              "<Figure size 432x288 with 1 Axes>"
            ]
          },
          "metadata": {
            "needs_background": "light"
          }
        }
      ]
    },
    {
      "cell_type": "code",
      "source": [
        "ax = sns.countplot(x=\"emp_length\",data=df)"
      ],
      "metadata": {
        "colab": {
          "base_uri": "https://localhost:8080/",
          "height": 280
        },
        "id": "uZs5LObIwQDi",
        "outputId": "5010b39e-706c-4fd4-f910-3304ead1ae32"
      },
      "execution_count": 98,
      "outputs": [
        {
          "output_type": "display_data",
          "data": {
            "image/png": "[encoded data removed]",
            "text/plain": [
              "<Figure size 432x288 with 1 Axes>"
            ]
          },
          "metadata": {
            "needs_background": "light"
          }
        }
      ]
    },
    {
      "cell_type": "code",
      "source": [
        "ax = sns.countplot(x=\"verification_status\",data=df)"
      ],
      "metadata": {
        "colab": {
          "base_uri": "https://localhost:8080/",
          "height": 280
        },
        "id": "5kFAPCU1xQVH",
        "outputId": "d6d932b4-4ed2-4937-fef4-d002cc8baa6f"
      },
      "execution_count": 100,
      "outputs": [
        {
          "output_type": "display_data",
          "data": {
            "image/png": "[encoded data removed]",
            "text/plain": [
              "<Figure size 432x288 with 1 Axes>"
            ]
          },
          "metadata": {
            "needs_background": "light"
          }
        }
      ]
    },
    {
      "cell_type": "code",
      "source": [
        "ax = sns.countplot(x=\"home_ownership\",data=df)"
      ],
      "metadata": {
        "colab": {
          "base_uri": "https://localhost:8080/",
          "height": 280
        },
        "id": "CZ2AaqipwdzY",
        "outputId": "ba2f9d76-35cc-44e1-a3ed-c0067e7f9731"
      },
      "execution_count": 102,
      "outputs": [
        {
          "output_type": "display_data",
          "data": {
            "image/png": "[encoded data removed]",
            "text/plain": [
              "<Figure size 432x288 with 1 Axes>"
            ]
          },
          "metadata": {
            "needs_background": "light"
          }
        }
      ]
    },
    {
      "cell_type": "code",
      "source": [
        "ax = sns.countplot(x=\"issue_d\",data=df)"
      ],
      "metadata": {
        "colab": {
          "base_uri": "https://localhost:8080/",
          "height": 280
        },
        "id": "Mc77qlzYx8Es",
        "outputId": "b4cda860-7bbc-4100-a893-097b5f5d83e1"
      },
      "execution_count": 107,
      "outputs": [
        {
          "output_type": "display_data",
          "data": {
            "image/png": "[encoded data removed]",
            "text/plain": [
              "<Figure size 432x288 with 1 Axes>"
            ]
          },
          "metadata": {
            "needs_background": "light"
          }
        }
      ]
    },
    {
      "cell_type": "code",
      "source": [
        "ax = sns.countplot(x=\"purpose\",data=df)"
      ],
      "metadata": {
        "colab": {
          "base_uri": "https://localhost:8080/",
          "height": 280
        },
        "id": "Cb8L1Yiky3Nt",
        "outputId": "9de3c053-6372-47c8-ffcc-c3c05b878643"
      },
      "execution_count": 108,
      "outputs": [
        {
          "output_type": "display_data",
          "data": {
            "image/png": "[encoded data removed]",
            "text/plain": [
              "<Figure size 432x288 with 1 Axes>"
            ]
          },
          "metadata": {
            "needs_background": "light"
          }
        }
      ]
    },
    {
      "cell_type": "code",
      "source": [
        "ax = sns.countplot(x=\"earliest_cr_line\",data=df)"
      ],
      "metadata": {
        "colab": {
          "base_uri": "https://localhost:8080/",
          "height": 280
        },
        "id": "d7CwB1G40pEA",
        "outputId": "db9c9695-91e7-48c8-b8f9-56ec0708d312"
      },
      "execution_count": 9,
      "outputs": [
        {
          "output_type": "display_data",
          "data": {
            "image/png": "[encoded data removed]",
            "text/plain": [
              "<Figure size 432x288 with 1 Axes>"
            ]
          },
          "metadata": {
            "needs_background": "light"
          }
        }
      ]
    },
    {
      "cell_type": "code",
      "source": [
        "ax = sns.countplot(x=\"initial_list_status\",data=df)"
      ],
      "metadata": {
        "colab": {
          "base_uri": "https://localhost:8080/",
          "height": 291
        },
        "id": "znR6oO4a3ZQX",
        "outputId": "32c6c738-aa04-4fcd-cb2a-8931c6ba5791"
      },
      "execution_count": 15,
      "outputs": [
        {
          "output_type": "display_data",
          "data": {
            "image/png": "[encoded data removed]",
            "text/plain": [
              "<Figure size 432x288 with 1 Axes>"
            ]
          },
          "metadata": {
            "needs_background": "light"
          }
        }
      ]
    },
    {
      "cell_type": "code",
      "source": [
        "ax = sns.countplot(x=\"application_type\",data=df)"
      ],
      "metadata": {
        "colab": {
          "base_uri": "https://localhost:8080/",
          "height": 291
        },
        "id": "vaxNtPX13uCA",
        "outputId": "c61a1fbf-9a12-455a-cbba-98171d89103c"
      },
      "execution_count": 17,
      "outputs": [
        {
          "output_type": "display_data",
          "data": {
            "image/png": "[encoded data removed]",
            "text/plain": [
              "<Figure size 432x288 with 1 Axes>"
            ]
          },
          "metadata": {
            "needs_background": "light"
          }
        }
      ]
    },
    {
      "cell_type": "code",
      "source": [
        "plt.hist(df['mort_acc'])"
      ],
      "metadata": {
        "colab": {
          "base_uri": "https://localhost:8080/",
          "height": 362
        },
        "id": "0xXbb11j4BZ1",
        "outputId": "153c3731-fec2-412d-b560-559217fc4d45"
      },
      "execution_count": 18,
      "outputs": [
        {
          "output_type": "execute_result",
          "data": {
            "text/plain": [
              "(array([1.625597e+06, 4.597000e+03, 1.310000e+02, 1.600000e+01,\n",
              "        2.000000e+00, 3.000000e+00, 0.000000e+00, 0.000000e+00,\n",
              "        0.000000e+00, 2.000000e+00]),\n",
              " array([ 0. ,  9.4, 18.8, 28.2, 37.6, 47. , 56.4, 65.8, 75.2, 84.6, 94. ]),\n",
              " <a list of 10 Patch objects>)"
            ]
          },
          "metadata": {},
          "execution_count": 18
        },
        {
          "output_type": "display_data",
          "data": {
            "image/png": "[encoded data removed]",
            "text/plain": [
              "<Figure size 432x288 with 1 Axes>"
            ]
          },
          "metadata": {
            "needs_background": "light"
          }
        }
      ]
    },
    {
      "cell_type": "code",
      "source": [
        "plt.hist(df['pub_rec_bankruptcies'])"
      ],
      "metadata": {
        "colab": {
          "base_uri": "https://localhost:8080/",
          "height": 362
        },
        "id": "uZfM8ZL84Rhw",
        "outputId": "1a64ef23-8bce-4bf0-851d-b3a30cb9471c"
      },
      "execution_count": 19,
      "outputs": [
        {
          "output_type": "execute_result",
          "data": {
            "text/plain": [
              "(array([1.661384e+06, 7.925000e+03, 1.599000e+03, 3.960000e+02,\n",
              "        1.400000e+02, 6.200000e+01, 7.000000e+00, 3.000000e+00,\n",
              "        0.000000e+00, 2.000000e+00]),\n",
              " array([ 0. ,  1.2,  2.4,  3.6,  4.8,  6. ,  7.2,  8.4,  9.6, 10.8, 12. ]),\n",
              " <a list of 10 Patch objects>)"
            ]
          },
          "metadata": {},
          "execution_count": 19
        },
        {
          "output_type": "display_data",
          "data": {
            "image/png": "[encoded data removed]",
            "text/plain": [
              "<Figure size 432x288 with 1 Axes>"
            ]
          },
          "metadata": {
            "needs_background": "light"
          }
        }
      ]
    },
    {
      "cell_type": "code",
      "source": [
        "plt.hist(df['open_acc'])"
      ],
      "metadata": {
        "colab": {
          "base_uri": "https://localhost:8080/",
          "height": 351
        },
        "id": "zgGvQwNJ08WN",
        "outputId": "36a2832a-1c26-408a-f26a-079b7e051fed"
      },
      "execution_count": 10,
      "outputs": [
        {
          "output_type": "execute_result",
          "data": {
            "text/plain": [
              "(array([8.17197e+05, 7.30764e+05, 1.09933e+05, 1.30340e+04, 1.59300e+03,\n",
              "        2.60000e+02, 4.70000e+01, 1.50000e+01, 8.00000e+00, 4.00000e+00]),\n",
              " array([  0. ,  10.1,  20.2,  30.3,  40.4,  50.5,  60.6,  70.7,  80.8,\n",
              "         90.9, 101. ]),\n",
              " <a list of 10 Patch objects>)"
            ]
          },
          "metadata": {},
          "execution_count": 10
        },
        {
          "output_type": "display_data",
          "data": {
            "image/png": "[encoded data removed]",
            "text/plain": [
              "<Figure size 432x288 with 1 Axes>"
            ]
          },
          "metadata": {
            "needs_background": "light"
          }
        }
      ]
    },
    {
      "cell_type": "code",
      "source": [
        "plt.hist(df['pub_rec'])"
      ],
      "metadata": {
        "colab": {
          "base_uri": "https://localhost:8080/",
          "height": 362
        },
        "id": "ZTkjhcO_1Eev",
        "outputId": "84c9c011-7edd-476b-f3c3-45113e5e2a82"
      },
      "execution_count": 11,
      "outputs": [
        {
          "output_type": "execute_result",
          "data": {
            "text/plain": [
              "(array([1.672519e+06, 2.960000e+02, 2.400000e+01, 7.000000e+00,\n",
              "        2.000000e+00, 4.000000e+00, 1.000000e+00, 1.000000e+00,\n",
              "        0.000000e+00, 1.000000e+00]),\n",
              " array([ 0. ,  8.6, 17.2, 25.8, 34.4, 43. , 51.6, 60.2, 68.8, 77.4, 86. ]),\n",
              " <a list of 10 Patch objects>)"
            ]
          },
          "metadata": {},
          "execution_count": 11
        },
        {
          "output_type": "display_data",
          "data": {
            "image/png": "[encoded data removed]",
            "text/plain": [
              "<Figure size 432x288 with 1 Axes>"
            ]
          },
          "metadata": {
            "needs_background": "light"
          }
        }
      ]
    },
    {
      "cell_type": "code",
      "source": [
        "plt.hist(df['revol_bal'])"
      ],
      "metadata": {
        "colab": {
          "base_uri": "https://localhost:8080/",
          "height": 393
        },
        "id": "E6KgWWT02SYP",
        "outputId": "c74f6ce4-a9ba-4e09-c601-92445fe70700"
      },
      "execution_count": 12,
      "outputs": [
        {
          "output_type": "execute_result",
          "data": {
            "text/plain": [
              "(array([1.671565e+06, 1.176000e+03, 1.020000e+02, 2.800000e+01,\n",
              "        5.000000e+00, 3.000000e+00, 2.000000e+00, 0.000000e+00,\n",
              "        2.000000e+00, 1.000000e+00]),\n",
              " array([      0. ,  290483.6,  580967.2,  871450.8, 1161934.4, 1452418. ,\n",
              "        1742901.6, 2033385.2, 2323868.8, 2614352.4, 2904836. ]),\n",
              " <a list of 10 Patch objects>)"
            ]
          },
          "metadata": {},
          "execution_count": 12
        },
        {
          "output_type": "display_data",
          "data": {
            "image/png": "[encoded data removed]",
            "text/plain": [
              "<Figure size 432x288 with 1 Axes>"
            ]
          },
          "metadata": {
            "needs_background": "light"
          }
        }
      ]
    },
    {
      "cell_type": "code",
      "source": [
        "plt.hist(df['revol_util'])"
      ],
      "metadata": {
        "colab": {
          "base_uri": "https://localhost:8080/",
          "height": 380
        },
        "id": "d-DX8Xql2mAd",
        "outputId": "109561d5-c83c-4445-f8bd-da0ae87bc740"
      },
      "execution_count": 13,
      "outputs": [
        {
          "output_type": "execute_result",
          "data": {
            "text/plain": [
              "(array([1.570271e+06, 1.013010e+05, 6.000000e+00, 0.000000e+00,\n",
              "        1.000000e+00, 0.000000e+00, 0.000000e+00, 0.000000e+00,\n",
              "        0.000000e+00, 1.000000e+00]),\n",
              " array([  0.  ,  89.23, 178.46, 267.69, 356.92, 446.15, 535.38, 624.61,\n",
              "        713.84, 803.07, 892.3 ]),\n",
              " <a list of 10 Patch objects>)"
            ]
          },
          "metadata": {},
          "execution_count": 13
        },
        {
          "output_type": "display_data",
          "data": {
            "image/png": "[encoded data removed]",
            "text/plain": [
              "<Figure size 432x288 with 1 Axes>"
            ]
          },
          "metadata": {
            "needs_background": "light"
          }
        }
      ]
    },
    {
      "cell_type": "code",
      "source": [
        "plt.hist(df['total_acc'])"
      ],
      "metadata": {
        "colab": {
          "base_uri": "https://localhost:8080/",
          "height": 351
        },
        "id": "MNPHigx12z6m",
        "outputId": "e5142a27-b8e5-4eba-8c72-fc88ea90b621"
      },
      "execution_count": 14,
      "outputs": [
        {
          "output_type": "execute_result",
          "data": {
            "text/plain": [
              "(array([6.00991e+05, 7.98522e+05, 2.35210e+05, 3.30890e+04, 4.23400e+03,\n",
              "        6.48000e+02, 1.17000e+02, 2.60000e+01, 1.20000e+01, 6.00000e+00]),\n",
              " array([  1. ,  18.5,  36. ,  53.5,  71. ,  88.5, 106. , 123.5, 141. ,\n",
              "        158.5, 176. ]),\n",
              " <a list of 10 Patch objects>)"
            ]
          },
          "metadata": {},
          "execution_count": 14
        },
        {
          "output_type": "display_data",
          "data": {
            "image/png": "[encoded data removed]",
            "text/plain": [
              "<Figure size 432x288 with 1 Axes>"
            ]
          },
          "metadata": {
            "needs_background": "light"
          }
        }
      ]
    },
    {
      "cell_type": "code",
      "source": [
        "plt.hist(df['dti'])"
      ],
      "metadata": {
        "colab": {
          "base_uri": "https://localhost:8080/",
          "height": 362
        },
        "id": "gNnO9dSOzy-P",
        "outputId": "9877f9b6-50b9-43ff-8c56-d49ce3f82410"
      },
      "execution_count": 8,
      "outputs": [
        {
          "output_type": "execute_result",
          "data": {
            "text/plain": [
              "(array([1.669295e+06, 1.453000e+03, 2.920000e+02, 1.210000e+02,\n",
              "        7.100000e+01, 3.900000e+01, 2.900000e+01, 1.900000e+01,\n",
              "        1.100000e+01, 1.150000e+02]),\n",
              " array([ -1.,  99., 199., 299., 399., 499., 599., 699., 799., 899., 999.]),\n",
              " <a list of 10 Patch objects>)"
            ]
          },
          "metadata": {},
          "execution_count": 8
        },
        {
          "output_type": "display_data",
          "data": {
            "image/png": "[encoded data removed]",
            "text/plain": [
              "<Figure size 432x288 with 1 Axes>"
            ]
          },
          "metadata": {
            "needs_background": "light"
          }
        }
      ]
    },
    {
      "cell_type": "code",
      "source": [
        "plt.hist(df['annual_inc'])"
      ],
      "metadata": {
        "colab": {
          "base_uri": "https://localhost:8080/",
          "height": 393
        },
        "id": "nAQB2yhewv-X",
        "outputId": "2423890e-07e4-4588-cda4-b2d6364ba8f6"
      },
      "execution_count": 103,
      "outputs": [
        {
          "output_type": "execute_result",
          "data": {
            "text/plain": [
              "(array([1.672879e+06, 0.000000e+00, 0.000000e+00, 0.000000e+00,\n",
              "        0.000000e+00, 0.000000e+00, 0.000000e+00, 0.000000e+00,\n",
              "        0.000000e+00, 1.000000e+00]),\n",
              " array([0.0e+00, 1.1e+07, 2.2e+07, 3.3e+07, 4.4e+07, 5.5e+07, 6.6e+07,\n",
              "        7.7e+07, 8.8e+07, 9.9e+07, 1.1e+08]),\n",
              " <a list of 10 Patch objects>)"
            ]
          },
          "metadata": {},
          "execution_count": 103
        },
        {
          "output_type": "display_data",
          "data": {
            "image/png": "[encoded data removed]",
            "text/plain": [
              "<Figure size 432x288 with 1 Axes>"
            ]
          },
          "metadata": {
            "needs_background": "light"
          }
        }
      ]
    },
    {
      "cell_type": "code",
      "source": [
        "plt.hist(df['int_rate'])"
      ],
      "metadata": {
        "colab": {
          "base_uri": "https://localhost:8080/",
          "height": 351
        },
        "id": "29jRWlnJvAET",
        "outputId": "3ee30e5d-85fe-442a-91fe-03e6e1a4bf6d"
      },
      "execution_count": 104,
      "outputs": [
        {
          "output_type": "execute_result",
          "data": {
            "text/plain": [
              "(array([250244., 310604., 380595., 297570., 204456., 118058.,  52199.,\n",
              "         34053.,  14313.,  10792.]),\n",
              " array([ 5.31 ,  7.878, 10.446, 13.014, 15.582, 18.15 , 20.718, 23.286,\n",
              "        25.854, 28.422, 30.99 ]),\n",
              " <a list of 10 Patch objects>)"
            ]
          },
          "metadata": {},
          "execution_count": 104
        },
        {
          "output_type": "display_data",
          "data": {
            "image/png": "[encoded data removed]",
            "text/plain": [
              "<Figure size 432x288 with 1 Axes>"
            ]
          },
          "metadata": {
            "needs_background": "light"
          }
        }
      ]
    },
    {
      "cell_type": "code",
      "source": [
        "ax = sns.countplot(x=\"term\",data=df)"
      ],
      "metadata": {
        "id": "_PcP9eCdLFYj",
        "colab": {
          "base_uri": "https://localhost:8080/",
          "height": 290
        },
        "outputId": "a0f3f9d7-f804-4863-eb17-4a0569ffd1a5"
      },
      "execution_count": 91,
      "outputs": [
        {
          "output_type": "display_data",
          "data": {
            "image/png": "[encoded data removed]",
            "text/plain": [
              "<Figure size 432x288 with 1 Axes>"
            ]
          },
          "metadata": {
            "needs_background": "light"
          }
        }
      ]
    }
  ]
}